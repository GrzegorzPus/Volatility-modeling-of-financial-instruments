{
 "cells": [
  {
   "cell_type": "markdown",
   "metadata": {},
   "source": [
    "## Import data"
   ]
  },
  {
   "cell_type": "code",
   "execution_count": 25,
   "metadata": {},
   "outputs": [],
   "source": [
    "import pandas as pd\n",
    "import numpy as np\n",
    "import matplotlib.pyplot as plt\n",
    "import seaborn as sns"
   ]
  },
  {
   "cell_type": "code",
   "execution_count": 26,
   "metadata": {},
   "outputs": [
    {
     "name": "stdout",
     "output_type": "stream",
     "text": [
      "Requirement already satisfied: yfinance in c:\\users\\grzegorz\\appdata\\local\\programs\\python\\python310\\lib\\site-packages (0.2.36)\n",
      "Requirement already satisfied: numpy>=1.16.5 in c:\\users\\grzegorz\\appdata\\local\\programs\\python\\python310\\lib\\site-packages (from yfinance) (1.26.2)\n",
      "Requirement already satisfied: beautifulsoup4>=4.11.1 in c:\\users\\grzegorz\\appdata\\local\\programs\\python\\python310\\lib\\site-packages (from yfinance) (4.12.3)\n",
      "Requirement already satisfied: frozendict>=2.3.4 in c:\\users\\grzegorz\\appdata\\local\\programs\\python\\python310\\lib\\site-packages (from yfinance) (2.4.0)\n",
      "Requirement already satisfied: requests>=2.31 in c:\\users\\grzegorz\\appdata\\local\\programs\\python\\python310\\lib\\site-packages (from yfinance) (2.31.0)\n",
      "Requirement already satisfied: pandas>=1.3.0 in c:\\users\\grzegorz\\appdata\\local\\programs\\python\\python310\\lib\\site-packages (from yfinance) (2.1.4)\n",
      "Requirement already satisfied: peewee>=3.16.2 in c:\\users\\grzegorz\\appdata\\local\\programs\\python\\python310\\lib\\site-packages (from yfinance) (3.17.1)\n",
      "Requirement already satisfied: html5lib>=1.1 in c:\\users\\grzegorz\\appdata\\local\\programs\\python\\python310\\lib\\site-packages (from yfinance) (1.1)\n",
      "Requirement already satisfied: pytz>=2022.5 in c:\\users\\grzegorz\\appdata\\local\\programs\\python\\python310\\lib\\site-packages (from yfinance) (2023.3.post1)\n",
      "Requirement already satisfied: lxml>=4.9.1 in c:\\users\\grzegorz\\appdata\\local\\programs\\python\\python310\\lib\\site-packages (from yfinance) (5.1.0)\n",
      "Requirement already satisfied: appdirs>=1.4.4 in c:\\users\\grzegorz\\appdata\\local\\programs\\python\\python310\\lib\\site-packages (from yfinance) (1.4.4)\n",
      "Requirement already satisfied: multitasking>=0.0.7 in c:\\users\\grzegorz\\appdata\\local\\programs\\python\\python310\\lib\\site-packages (from yfinance) (0.0.11)\n",
      "Requirement already satisfied: soupsieve>1.2 in c:\\users\\grzegorz\\appdata\\local\\programs\\python\\python310\\lib\\site-packages (from beautifulsoup4>=4.11.1->yfinance) (2.5)\n",
      "Requirement already satisfied: six>=1.9 in c:\\users\\grzegorz\\appdata\\roaming\\python\\python310\\site-packages (from html5lib>=1.1->yfinance) (1.16.0)\n",
      "Requirement already satisfied: webencodings in c:\\users\\grzegorz\\appdata\\local\\programs\\python\\python310\\lib\\site-packages (from html5lib>=1.1->yfinance) (0.5.1)\n",
      "Requirement already satisfied: python-dateutil>=2.8.2 in c:\\users\\grzegorz\\appdata\\roaming\\python\\python310\\site-packages (from pandas>=1.3.0->yfinance) (2.8.2)\n",
      "Requirement already satisfied: tzdata>=2022.1 in c:\\users\\grzegorz\\appdata\\local\\programs\\python\\python310\\lib\\site-packages (from pandas>=1.3.0->yfinance) (2023.3)\n",
      "Requirement already satisfied: certifi>=2017.4.17 in c:\\users\\grzegorz\\appdata\\local\\programs\\python\\python310\\lib\\site-packages (from requests>=2.31->yfinance) (2024.2.2)\n",
      "Requirement already satisfied: idna<4,>=2.5 in c:\\users\\grzegorz\\appdata\\local\\programs\\python\\python310\\lib\\site-packages (from requests>=2.31->yfinance) (3.6)\n",
      "Requirement already satisfied: charset-normalizer<4,>=2 in c:\\users\\grzegorz\\appdata\\local\\programs\\python\\python310\\lib\\site-packages (from requests>=2.31->yfinance) (3.3.2)\n",
      "Requirement already satisfied: urllib3<3,>=1.21.1 in c:\\users\\grzegorz\\appdata\\local\\programs\\python\\python310\\lib\\site-packages (from requests>=2.31->yfinance) (2.2.0)\n",
      "Note: you may need to restart the kernel to use updated packages.\n"
     ]
    },
    {
     "name": "stderr",
     "output_type": "stream",
     "text": [
      "WARNING: You are using pip version 21.2.4; however, version 24.0 is available.\n",
      "You should consider upgrading via the 'c:\\Users\\GRZEGORZ\\AppData\\Local\\Programs\\Python\\Python310\\python.exe -m pip install --upgrade pip' command.\n"
     ]
    }
   ],
   "source": [
    "pip install yfinance"
   ]
  },
  {
   "cell_type": "markdown",
   "metadata": {},
   "source": [
    "<br>"
   ]
  },
  {
   "cell_type": "markdown",
   "metadata": {},
   "source": [
    "We will use daily Microsoft returns from 2001-today"
   ]
  },
  {
   "cell_type": "code",
   "execution_count": 27,
   "metadata": {},
   "outputs": [
    {
     "data": {
      "text/html": [
       "<div>\n",
       "<style scoped>\n",
       "    .dataframe tbody tr th:only-of-type {\n",
       "        vertical-align: middle;\n",
       "    }\n",
       "\n",
       "    .dataframe tbody tr th {\n",
       "        vertical-align: top;\n",
       "    }\n",
       "\n",
       "    .dataframe thead th {\n",
       "        text-align: right;\n",
       "    }\n",
       "</style>\n",
       "<table border=\"1\" class=\"dataframe\">\n",
       "  <thead>\n",
       "    <tr style=\"text-align: right;\">\n",
       "      <th></th>\n",
       "      <th>Open</th>\n",
       "      <th>High</th>\n",
       "      <th>Low</th>\n",
       "      <th>Close</th>\n",
       "      <th>Volume</th>\n",
       "      <th>Dividends</th>\n",
       "      <th>Stock Splits</th>\n",
       "    </tr>\n",
       "    <tr>\n",
       "      <th>Date</th>\n",
       "      <th></th>\n",
       "      <th></th>\n",
       "      <th></th>\n",
       "      <th></th>\n",
       "      <th></th>\n",
       "      <th></th>\n",
       "      <th></th>\n",
       "    </tr>\n",
       "  </thead>\n",
       "  <tbody>\n",
       "    <tr>\n",
       "      <th>2001-01-02 00:00:00-05:00</th>\n",
       "      <td>13.677957</td>\n",
       "      <td>13.949192</td>\n",
       "      <td>13.290480</td>\n",
       "      <td>13.445471</td>\n",
       "      <td>82413200</td>\n",
       "      <td>0.0</td>\n",
       "      <td>0.0</td>\n",
       "    </tr>\n",
       "    <tr>\n",
       "      <th>2001-01-03 00:00:00-05:00</th>\n",
       "      <td>13.387338</td>\n",
       "      <td>15.150360</td>\n",
       "      <td>13.367964</td>\n",
       "      <td>14.859752</td>\n",
       "      <td>135962200</td>\n",
       "      <td>0.0</td>\n",
       "      <td>0.0</td>\n",
       "    </tr>\n",
       "    <tr>\n",
       "      <th>2001-01-04 00:00:00-05:00</th>\n",
       "      <td>14.821011</td>\n",
       "      <td>15.654087</td>\n",
       "      <td>14.530403</td>\n",
       "      <td>15.014750</td>\n",
       "      <td>112397000</td>\n",
       "      <td>0.0</td>\n",
       "      <td>0.0</td>\n",
       "    </tr>\n",
       "    <tr>\n",
       "      <th>2001-01-05 00:00:00-05:00</th>\n",
       "      <td>15.034118</td>\n",
       "      <td>15.460343</td>\n",
       "      <td>14.743510</td>\n",
       "      <td>15.227857</td>\n",
       "      <td>93414600</td>\n",
       "      <td>0.0</td>\n",
       "      <td>0.0</td>\n",
       "    </tr>\n",
       "    <tr>\n",
       "      <th>2001-01-08 00:00:00-05:00</th>\n",
       "      <td>15.169737</td>\n",
       "      <td>15.421597</td>\n",
       "      <td>14.472278</td>\n",
       "      <td>15.169737</td>\n",
       "      <td>79817600</td>\n",
       "      <td>0.0</td>\n",
       "      <td>0.0</td>\n",
       "    </tr>\n",
       "  </tbody>\n",
       "</table>\n",
       "</div>"
      ],
      "text/plain": [
       "                                Open       High        Low      Close  \\\n",
       "Date                                                                    \n",
       "2001-01-02 00:00:00-05:00  13.677957  13.949192  13.290480  13.445471   \n",
       "2001-01-03 00:00:00-05:00  13.387338  15.150360  13.367964  14.859752   \n",
       "2001-01-04 00:00:00-05:00  14.821011  15.654087  14.530403  15.014750   \n",
       "2001-01-05 00:00:00-05:00  15.034118  15.460343  14.743510  15.227857   \n",
       "2001-01-08 00:00:00-05:00  15.169737  15.421597  14.472278  15.169737   \n",
       "\n",
       "                              Volume  Dividends  Stock Splits  \n",
       "Date                                                           \n",
       "2001-01-02 00:00:00-05:00   82413200        0.0           0.0  \n",
       "2001-01-03 00:00:00-05:00  135962200        0.0           0.0  \n",
       "2001-01-04 00:00:00-05:00  112397000        0.0           0.0  \n",
       "2001-01-05 00:00:00-05:00   93414600        0.0           0.0  \n",
       "2001-01-08 00:00:00-05:00   79817600        0.0           0.0  "
      ]
     },
     "execution_count": 27,
     "metadata": {},
     "output_type": "execute_result"
    }
   ],
   "source": [
    "import yfinance as yf\n",
    "from datetime import datetime\n",
    "\n",
    "# Microsoft sotck data\n",
    "msft = yf.Ticker(\"MSFT\")\n",
    "ms = msft.history(start=\"2001-01-01\", end=datetime.today().strftime('%Y-%m-%d'))\n",
    "\n",
    "ms.head()\n"
   ]
  },
  {
   "cell_type": "code",
   "execution_count": 28,
   "metadata": {},
   "outputs": [],
   "source": [
    "ms = ms.iloc[:, :-2]"
   ]
  },
  {
   "cell_type": "code",
   "execution_count": 29,
   "metadata": {},
   "outputs": [
    {
     "name": "stdout",
     "output_type": "stream",
     "text": [
      "<class 'pandas.core.frame.DataFrame'>\n",
      "DatetimeIndex: 5813 entries, 2001-01-02 00:00:00-05:00 to 2024-02-09 00:00:00-05:00\n",
      "Data columns (total 5 columns):\n",
      " #   Column  Non-Null Count  Dtype  \n",
      "---  ------  --------------  -----  \n",
      " 0   Open    5813 non-null   float64\n",
      " 1   High    5813 non-null   float64\n",
      " 2   Low     5813 non-null   float64\n",
      " 3   Close   5813 non-null   float64\n",
      " 4   Volume  5813 non-null   int64  \n",
      "dtypes: float64(4), int64(1)\n",
      "memory usage: 272.5 KB\n"
     ]
    }
   ],
   "source": [
    "ms.info()"
   ]
  },
  {
   "cell_type": "markdown",
   "metadata": {},
   "source": [
    "<br>"
   ]
  },
  {
   "cell_type": "markdown",
   "metadata": {},
   "source": [
    "## Analysis"
   ]
  },
  {
   "cell_type": "markdown",
   "metadata": {},
   "source": [
    "In our analyses, we will particularly focus on logarithmic rates of return, which are calculated according to the formula: \n",
    "$$\n",
    "\\log \\left( \\frac{P_{t}}{P_{t-1}} \\right)\n",
    "$$"
   ]
  },
  {
   "cell_type": "code",
   "execution_count": 30,
   "metadata": {},
   "outputs": [],
   "source": [
    "ms['Return'] = 100 * (ms['Close'].pct_change())\n",
    "ms['Log Return'] = np.log(ms['Close']).diff().mul(100)\n",
    "ms = ms.dropna()"
   ]
  },
  {
   "cell_type": "code",
   "execution_count": null,
   "metadata": {},
   "outputs": [],
   "source": []
  }
 ],
 "metadata": {
  "kernelspec": {
   "display_name": "Python 3",
   "language": "python",
   "name": "python3"
  },
  "language_info": {
   "codemirror_mode": {
    "name": "ipython",
    "version": 3
   },
   "file_extension": ".py",
   "mimetype": "text/x-python",
   "name": "python",
   "nbconvert_exporter": "python",
   "pygments_lexer": "ipython3",
   "version": "3.10.2"
  }
 },
 "nbformat": 4,
 "nbformat_minor": 2
}
